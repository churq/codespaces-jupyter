{
 "cells": [
  {
   "attachments": {},
   "cell_type": "markdown",
   "metadata": {},
   "source": [
    "# Demo of using GPT to generate trading strategy python code and backtesting.\n",
    "\n",
    "\n",
    "This notebooks download public stock price data of microsoft\n",
    "develop trading strategy"
   ]
  },
  {
   "cell_type": "code",
   "execution_count": 35,
   "metadata": {},
   "outputs": [
    {
     "name": "stdout",
     "output_type": "stream",
     "text": [
      "[*********************100%***********************]  1 of 1 completed\n",
      "                 Open       High        Low      Close  Adj Close    Volume\n",
      "Date                                                                       \n",
      "2020-01-02  93.750000  94.900497  93.207497  94.900497  94.900497  80580000\n",
      "2020-01-03  93.224998  94.309998  93.224998  93.748497  93.748497  75288000\n",
      "2020-01-06  93.000000  95.184502  93.000000  95.143997  95.143997  81236000\n",
      "2020-01-07  95.224998  95.694504  94.601997  95.343002  95.343002  80898000\n",
      "2020-01-08  94.902000  95.550003  94.321999  94.598503  94.598503  70160000\n",
      "<class 'pandas.core.frame.DataFrame'>\n",
      "DatetimeIndex: 253 entries, 2020-01-02 to 2020-12-31\n",
      "Data columns (total 6 columns):\n",
      " #   Column     Non-Null Count  Dtype  \n",
      "---  ------     --------------  -----  \n",
      " 0   Open       253 non-null    float64\n",
      " 1   High       253 non-null    float64\n",
      " 2   Low        253 non-null    float64\n",
      " 3   Close      253 non-null    float64\n",
      " 4   Adj Close  253 non-null    float64\n",
      " 5   Volume     253 non-null    int64  \n",
      "dtypes: float64(5), int64(1)\n",
      "memory usage: 13.8 KB\n",
      "None\n"
     ]
    }
   ],
   "source": [
    "# enable inline plot.\n",
    "%matplotlib inline\n",
    "\n",
    "# use yahoo finance library \n",
    "import yfinance as yf\n",
    "# download data from yahoo finance, start from 2020-01-01 to today\n",
    "start = '2020-01-01'\n",
    "end = '2021-01-01'\n",
    "data = yf.download('AMZN', start=start, end=end)\n",
    "# print data sample and schema\n",
    "print(data.head())\n",
    "print(data.info())"
   ]
  },
  {
   "cell_type": "code",
   "execution_count": 36,
   "metadata": {},
   "outputs": [
    {
     "name": "stdout",
     "output_type": "stream",
     "text": [
      "                  Open        High         Low       Close   Adj Close  \\\n",
      "Date                                                                     \n",
      "2020-12-24  159.695007  160.100006  158.449997  158.634506  158.634506   \n",
      "2020-12-28  159.699997  165.199997  158.634506  164.197998  164.197998   \n",
      "2020-12-29  165.496994  167.532501  164.061005  166.100006  166.100006   \n",
      "2020-12-30  167.050003  167.104996  164.123505  164.292496  164.292496   \n",
      "2020-12-31  163.750000  164.145996  162.059998  162.846497  162.846497   \n",
      "\n",
      "               Volume         20d  signal    return  strategy  \n",
      "Date                                                           \n",
      "2020-12-24   29038000  158.912850     0.0 -0.003949 -0.000000  \n",
      "2020-12-28  113736000  159.134400     1.0  0.035071  0.035071  \n",
      "2020-12-29   97458000  159.519301     1.0  0.011584  0.011584  \n",
      "2020-12-30   64186000  159.683726     1.0 -0.010882 -0.010882  \n",
      "2020-12-31   59144000  159.817226     1.0 -0.008801 -0.008801  \n"
     ]
    },
    {
     "name": "stderr",
     "output_type": "stream",
     "text": [
      "/tmp/ipykernel_27971/384838188.py:17: SettingWithCopyWarning: \n",
      "A value is trying to be set on a copy of a slice from a DataFrame\n",
      "\n",
      "See the caveats in the documentation: https://pandas.pydata.org/pandas-docs/stable/user_guide/indexing.html#returning-a-view-versus-a-copy\n",
      "  data['signal'][i] = 0.0\n",
      "/tmp/ipykernel_27971/384838188.py:18: SettingWithCopyWarning: \n",
      "A value is trying to be set on a copy of a slice from a DataFrame\n",
      "\n",
      "See the caveats in the documentation: https://pandas.pydata.org/pandas-docs/stable/user_guide/indexing.html#returning-a-view-versus-a-copy\n",
      "  data['return'][i] = (data['Close'][i] / data['Close'][i-1]) - 1\n",
      "/tmp/ipykernel_27971/384838188.py:19: SettingWithCopyWarning: \n",
      "A value is trying to be set on a copy of a slice from a DataFrame\n",
      "\n",
      "See the caveats in the documentation: https://pandas.pydata.org/pandas-docs/stable/user_guide/indexing.html#returning-a-view-versus-a-copy\n",
      "  data['strategy'][i] = data['signal'][i] * data['return'][i]\n",
      "/tmp/ipykernel_27971/384838188.py:15: SettingWithCopyWarning: \n",
      "A value is trying to be set on a copy of a slice from a DataFrame\n",
      "\n",
      "See the caveats in the documentation: https://pandas.pydata.org/pandas-docs/stable/user_guide/indexing.html#returning-a-view-versus-a-copy\n",
      "  data['signal'][i] = 1.0\n"
     ]
    }
   ],
   "source": [
    "# write basic trading strategy code\n",
    "# buy when the price is lower than the 20 day moving average\n",
    "# sell when the price is higher than the 20 day moving average\n",
    "# calculate the 20 day moving average\n",
    "data['20d'] = data['Close'].rolling(window=20, min_periods=1).mean()\n",
    "# create a new column to store the trading signal\n",
    "data['signal'] = 0.0\n",
    "# create a new column to store the daily return\n",
    "data['return'] = 0.0\n",
    "# create a new column to store the strategy return\n",
    "data['strategy'] = 0.0\n",
    "# loop through the dataset\n",
    "for i in range(19, len(data)):\n",
    "    if data['Close'][i] > data['20d'][i]:\n",
    "        data['signal'][i] = 1.0\n",
    "    elif data['Close'][i] < data['20d'][i]:\n",
    "        data['signal'][i] = 0.0\n",
    "    data['return'][i] = (data['Close'][i] / data['Close'][i-1]) - 1\n",
    "    data['strategy'][i] = data['signal'][i] * data['return'][i]\n",
    "# print the last 5 rows of the dataset\n",
    "print(data.tail())\n"
   ]
  }
 ],
 "metadata": {
  "kernelspec": {
   "display_name": "Python 3.10.4 64-bit",
   "language": "python",
   "name": "python3"
  },
  "language_info": {
   "codemirror_mode": {
    "name": "ipython",
    "version": 3
   },
   "file_extension": ".py",
   "mimetype": "text/x-python",
   "name": "python",
   "nbconvert_exporter": "python",
   "pygments_lexer": "ipython3",
   "version": "3.10.4"
  },
  "orig_nbformat": 4,
  "vscode": {
   "interpreter": {
    "hash": "3ad933181bd8a04b432d3370b9dc3b0662ad032c4dfaa4e4f1596c548f763858"
   }
  }
 },
 "nbformat": 4,
 "nbformat_minor": 2
}
